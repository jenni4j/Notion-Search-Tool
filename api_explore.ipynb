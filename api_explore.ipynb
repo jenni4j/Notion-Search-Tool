{
 "cells": [
  {
   "cell_type": "code",
   "execution_count": 7,
   "metadata": {},
   "outputs": [],
   "source": [
    "import os\n",
    "import cohere\n",
    "co_key = COHERE_KEY\n",
    "co = cohere.Client(co_key)"
   ]
  },
  {
   "cell_type": "code",
   "execution_count": 16,
   "metadata": {},
   "outputs": [],
   "source": [
    "import pandas as pd\n",
    "import numpy as np\n",
    "import torch"
   ]
  },
  {
   "cell_type": "code",
   "execution_count": 11,
   "metadata": {},
   "outputs": [],
   "source": [
    "df = pd.read_csv(\"saved_notes.csv\")\n",
    "topics = df['Topic'].tolist()"
   ]
  },
  {
   "cell_type": "code",
   "execution_count": 13,
   "metadata": {},
   "outputs": [],
   "source": [
    "embeds = co.embed(texts=topics,\n",
    "                  model=\"embed-english-light-v2.0\",\n",
    "                  truncate=\"END\").embeddings"
   ]
  },
  {
   "cell_type": "code",
   "execution_count": 17,
   "metadata": {},
   "outputs": [
    {
     "name": "stdout",
     "output_type": "stream",
     "text": [
      "(11, 1024)\n"
     ]
    }
   ],
   "source": [
    "embeds_array = np.array(embeds)\n",
    "print(embeds_array.shape)\n",
    "embeds_tensor = torch.tensor(embeds_array)"
   ]
  },
  {
   "cell_type": "code",
   "execution_count": 18,
   "metadata": {},
   "outputs": [],
   "source": [
    "query = 'Article on Artificial Intelligence'\n",
    "query_embeddings = co.embed(texts=[query],\n",
    "                  model=\"embed-english-light-v2.0\",\n",
    "                  truncate=\"END\").embeddings\n",
    "query_embeddings_tensor = torch.tensor(query_embeddings)\n",
    "dot_scores = torch.mm(query_embeddings_tensor.float(), embeds_tensor.transpose(0,1).float())\n",
    "top_k = torch.topk(dot_scores, k=5)"
   ]
  },
  {
   "cell_type": "code",
   "execution_count": 19,
   "metadata": {},
   "outputs": [],
   "source": [
    "NN_results = []\n",
    "for doc_id in top_k.indices[0].tolist():\n",
    "    NN_results.append(topics[doc_id])"
   ]
  },
  {
   "cell_type": "code",
   "execution_count": 20,
   "metadata": {},
   "outputs": [
    {
     "data": {
      "text/plain": [
       "['Artificial Intelligence: AI simulates human intelligence in machines for tasks like natural language processing and computer vision.',\n",
       " 'Quantum Mechanics: Involves principles like superposition and entanglement, crucial for quantum computing and cryptography.',\n",
       " 'Cognitive Psychology: Studies mental processes like perception and memory, applies theories like information processing and cognitive-behavioral therapy.',\n",
       " 'Renaissance Art: Characterized by realism and perspective, with artists like Leonardo da Vinci and Michelangelo influencing cultural revival and humanism.',\n",
       " 'Space Exploration: Marked by milestones such as the Moon landing and Mars rovers, driven by agencies like NASA and SpaceX toward future missions like Mars colonization.']"
      ]
     },
     "execution_count": 20,
     "metadata": {},
     "output_type": "execute_result"
    }
   ],
   "source": [
    "NN_results"
   ]
  },
  {
   "cell_type": "code",
   "execution_count": null,
   "metadata": {},
   "outputs": [],
   "source": []
  }
 ],
 "metadata": {
  "kernelspec": {
   "display_name": "venv",
   "language": "python",
   "name": "python3"
  },
  "language_info": {
   "codemirror_mode": {
    "name": "ipython",
    "version": 3
   },
   "file_extension": ".py",
   "mimetype": "text/x-python",
   "name": "python",
   "nbconvert_exporter": "python",
   "pygments_lexer": "ipython3",
   "version": "3.10.0"
  }
 },
 "nbformat": 4,
 "nbformat_minor": 2
}
